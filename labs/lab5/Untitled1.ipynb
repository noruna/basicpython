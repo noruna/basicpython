{
 "cells": [
  {
   "cell_type": "code",
   "execution_count": 6,
   "metadata": {
    "collapsed": false
   },
   "outputs": [
    {
     "name": "stdout",
     "output_type": "stream",
     "text": [
      "Greater than\n"
     ]
    }
   ],
   "source": [
    "from datetime import datetime,date\n",
    "ds = '29-Sep-2016'\n",
    "td = date.today()\n",
    "do = datetime.strptime(ds,'%d-%b-%Y').date()\n",
    "if td > do:\n",
    "    print (\"Greater than\")\n",
    "else:\n",
    "    print (\"Not greater than\")"
   ]
  }
 ],
 "metadata": {
  "kernelspec": {
   "display_name": "Python 3",
   "language": "python",
   "name": "python3"
  },
  "language_info": {
   "codemirror_mode": {
    "name": "ipython",
    "version": 3
   },
   "file_extension": ".py",
   "mimetype": "text/x-python",
   "name": "python",
   "nbconvert_exporter": "python",
   "pygments_lexer": "ipython3",
   "version": "3.4.3"
  }
 },
 "nbformat": 4,
 "nbformat_minor": 2
}
