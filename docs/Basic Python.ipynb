{
 "cells": [
  {
   "cell_type": "markdown",
   "metadata": {},
   "source": [
    "<h1 align ='Center'>Introduction to Software Engineering with Python </h1>\n",
    "<h2 align='Center'> Braun E. Brelin</h2>\n",
    "\n"
   ]
  },
  {
   "cell_type": "markdown",
   "metadata": {},
   "source": [
    "<h1 align='center'>Table of Contents</h1>\n",
    "\n",
    "1.  [About Python](#About Python)\n",
    "2.  [Installing and Using Python](#Installing and Using Python)\n",
    "3.  [Starting with Python](#Starting with Python)\n",
    "4.  [Binding variables to objects](#Binding variables to objects)\n",
    "5.  [Python operators](#Python operators)\n",
    "6.  [Control flow in Python](#Control Flow in Python)\n",
    "    1.  [if/elif/else statements](#if/elif/else statements)\n",
    "    2.  [for loops](#for loops)\n",
    "    3.  [while loops](#while loops)\n",
    "7.  [Defining and using functions in Python](#Defining and using functions in Python)\n",
    "    1.  [Parameter types, \\*args and \\*\\*kwargs](#Parameter types \\*args and \\*\\*kwargs)\n",
    "8.  [Python strings](#Python Strings)\n",
    "9.  [Lists and Tuples](#Lists and Tuples)\n",
    "10.  [Dictionaries](#Dictionaries)\n",
    "11.  [Sets](#Sets)\n",
    "12. [Comprehensions](#Comprehensions)\n",
    "13. [Problem Analysis](#Problem Analysis)\n",
    "14. [Introduction to Object Oriented Programming](#Introduction to Object Oriented Programming)\n",
    "15. [Classes](#Classes)\n",
    "    1.  [Inheritance](#Inheritance)\n",
    "    2.  [Polymorphism](#Polymorphism)\n",
    "16. [Writing Pythonic code](#Writing Pythonic Code)"
   ]
  },
  {
   "cell_type": "markdown",
   "metadata": {},
   "source": [
    "<h1 align='center'>Chapter 1</h1>\n",
    "<h1 align='center'>About Python</h1>\n",
    "\n",
    "Python was created in the late 1980\\'s by Guido Van Rossum when he worked as a researcher at <a href = 'https://www.cwi.nl/'>Centrum Wiskunde & Informatica</a>.  In 2000. Python 2.0 was released.  The 2.0 release has gone through a number of major versions, ending in version 2.7. In 2008, Python 3.0 was released.  As of this writing, the latest stable version, 3.6, was released in December 2016.  \n",
    "\n",
    "Python is a programming language designed to be run on multiple operating systems, including Linux, Unix, MacOS X and Microsoft Windows.  The language supports a number of programming paradigms, including *Functional*, *Imperative* and *Object Oriented* styles.\n",
    "\n",
    "The core philosophy of Python is summarized in a paper entitled [*The zen of python*](#https://www.python.org/dev/peps/pep-0020/)\n",
    "\n",
    "In brief, \n",
    "- Beautiful is better than ugly. \n",
    "- Explicit is better than implicit.\n",
    "- Simple is better than complex\n",
    "- Complex is better than complicated.\n",
    "- There should be one—and preferably only one—obvious way to do it.\n",
    "\n",
    "[https://docs.python.org](#http://docs.python.org) is the URL for the repository of all the offical Python documentation, including a tutorial, API documentation, and much more.  \n",
    "\n",
    "This course will focus on the Python 3.x implementation of the language.  Although Python 2 is still in wide release, it is no longer being updated with the new features of Python 3 and there is a wide push among the Python developers to have existing Python code ported from version 2 to version 3 as well as suggesting that all new Python code be developed with the latest stable release of Python 3. \n",
    "\n",
    " \n"
   ]
  },
  {
   "cell_type": "markdown",
   "metadata": {},
   "source": [
    "<h1 align='center'>Chapter 2</h1>\n",
    "<h1 align='center'>Installing and Using Python</h1>\n",
    "\n",
    "Python is widely available on the Internet.The official source URL for Python is at \n",
    "[python.org/downloads](#https://python.org/downloads).\n",
    "\n",
    "Additionally, you will want to also download the following software for use with this course. \n",
    "\n",
    "- [The Jupyter Notebook](#https://www.continuum.io/downloads). \n",
    "- [PIP](#https://pypi.python.org/pypi/pip)\n",
    "\n",
    "The Jupyter Notebook is part of the Anaconda software system, which bundles together a number of Python packages for use in scientific computing.  \n",
    "Download and install these packages on your local system in order to start using Python for this course. \n",
    "\n",
    "Once the software has been installed successfully, you can now start using Python.  The python environment comes with a shell, also known as a REPL (Read-Eval-Print-Loop).  To start it, simply type in the following:\n",
    "\n",
    "                                 \n",
    "<table>\n",
    "    <tr>\n",
    "        <td> \n",
    "             <p style = 'font-family:courier'>  \n",
    "             xvarix% python3<br>\n",
    "             Python 3.5.2 (default, Nov 17 2016, 17:05:23)<br> \n",
    "             [GCC 5.4.0 20160609] on linux<br>\n",
    "             Type \"help\", \"copyright\", \"credits\" or \"license\" for more information.<br>\n",
    "             >>>\n",
    "            </p>\n",
    "        </td>\n",
    "    </tr>\n",
    "</table>\n",
    "\n",
    "Once the '>>>' prompt is printed, you can now type in Python commands and executable code.  For example\n",
    "<table>\n",
    "    <tr>\n",
    "        <td> \n",
    "             <p style = 'font-family:courier'>  \n",
    "             xvarix% python3<br>\n",
    "             Python 3.5.2 (default, Nov 17 2016, 17:05:23)<br> \n",
    "             [GCC 5.4.0 20160609] on linux<br>\n",
    "             Type \"help\", \"copyright\", \"credits\" or \"license\" for more information.<br>\n",
    "             >>> 2 + 2<br>\n",
    "             4<br>\n",
    "             >>><br>\n",
    "            </p>\n",
    "        </td>\n",
    "    </tr>\n",
    "</table>\n",
    "\n",
    "\n",
    "                                 \n",
    "\n",
    "                               "
   ]
  },
  {
   "cell_type": "markdown",
   "metadata": {},
   "source": [
    "### Quick Exercise:\n",
    "From the Python shell perform the following actions:\n",
    "1. Multiply 4 and 2 using the Python '\\*' operator. Save it to a variable called *mult*. \n",
    "2. Using the *print()* built in function in Python, print the value stored in the *mult* variable.\n",
    "3. Print the string \"Hello Python\" using the print() function in Python."
   ]
  },
  {
   "cell_type": "markdown",
   "metadata": {},
   "source": [
    "<h2> The Python Virtual Machine </h2><br>\n",
    "Python uses the concept of a *virtual machine*.  This is similar to languages like Java.  Initially, programming languages were compiled.  That is, you would create a source code file in a language like C or Fortran, and then a special program called a *compiler* would take that source code and convert it into a file of binary code called an *object* file.  This is still done today for language like C, C++ and many others.  Java was the first language to widely use a new concept called a Virtual Machine. Java would take a source code file and compile it, not to object code but to an intermediate form called a *bytecode* file.  This bytecode file would then be compiled by the Java Virtual Machine (JVM) to object code and then executed by the operating system.  \n",
    "\n",
    "While this sounds like unnecessary complexity, in fact, there are many advantages to this type of system.  Before the concept of a virtual machine, programmers needed to keep track of all computer memory allocated and de-allocated in their program.  Often, mistakes in the program would lead to crashes and indeterministic behavior on part of the program due to a flaw in the program's allocation of memory.  With a virtual machine, the VM itself takes care of the allocation and de-allocation of memory so the programmer no longer needs to worry about it.  This leads to far more robust programs since an entire class of potential error has been removed.  Following is a graphic illustration of how the Python Virtual Machine works. \n",
    "\n",
    "<img src='/files/Python%20VM%20Diagram.png'> </img>\n",
    "\n",
    "\n"
   ]
  },
  {
   "cell_type": "markdown",
   "metadata": {},
   "source": [
    "<h1 align='center'>Chapter 3</h1>\n",
    "<h2 align='center'>Starting with Python</h1>\n",
    "\n",
    "<h3>Identifiers</h3>\n",
    "\n",
    "We start with Python by understanding the concept of *identifiers*.  An identifier is a name that is used to identify things in Python.  A thing in Python can be a variable, a function, a class, a module or any other valid Python object.  An identifier can contain upper or lower case letters (A to Z or a to z), numbers (0 to 9) or underscores \\(\\_\\). It is also important to understand that identifiers are *case sensitive*.  \n",
    "\n",
    "Examples of valid identifiers in Python include:\n",
    "\n",
    "var1,<br>\n",
    "\\_\\_doc\\_\\_,<br>\n",
    "Myidentifier,<br>\n",
    "myidentifier (Note, that Myidentifier and myidentifier are different!),<br>\n",
    "abc1\n",
    "\n",
    "and so on. \n",
    "\n",
    "When using identifiers, Python has a convention for names.  \n",
    "\n",
    "- All class names should begin with an upper case letter.  For example, Person.\n",
    "- Starting an identifier with an underscore indicates that the identifier is private.  For example \\_privvar\n",
    "- Starting an identifier with two underscores indicates that it is strongly private. For example \\_\\_privvar1\n",
    "- If an identifier starts with and ends with two double underscores, then it is a specially defined variable in the Python language.  For example \\_\\_init\\_\\_\n",
    "\n",
    "Python reserves a number of words that cannot be used for naming an identifier.  \n",
    "<table class=\"table table-bordered\">\n",
    "<tr><td>and</td><td>exec</td><td>not</td></tr>\n",
    "<tr><td>assert</td><td>finally</td><td>or</td></tr>\n",
    "<tr><td>break</td><td>for</td><td>pass</td></tr>\n",
    "<tr><td>class</td><td>from</td><td>print</td></tr>\n",
    "<tr><td>continue</td><td>global</td><td>raise</td></tr>\n",
    "<tr><td>def</td><td>if</td><td>return</td></tr>\n",
    "<tr><td>del</td><td>import</td><td>try</td></tr>\n",
    "<tr><td>elif</td><td>in</td><td>while</td></tr>\n",
    "<tr><td>else</td><td>is</td><td>with </td></tr>\n",
    "<tr><td>except</td><td>lambda</td><td>yield</td></tr>\n",
    "</table>\n",
    "\n",
    "<h3>Code Indentation</h3>\n",
    "One major difference between Python and other languages such as Java or C, is that there is no concept of using the curly braces ({}) to identify blocks of code.  Python instead uses *indentation* to achieve the same result. \n",
    "For example.\n",
    "\n",
    "<table>\n",
    "    <tr>\n",
    "        <td width = '300px'>\n",
    "            <p style ='font-family: courier'>\n",
    "            Using C:<br>\n",
    "            if (x == 5) {<br>\n",
    "            &nbsp;&nbsp;&nbsp;&nbsp;printf (\"x is 5\\n\");<br>\n",
    "            }\n",
    "             <br><br>\n",
    "             Using Python:<br>\n",
    "             if x is 5:<br>\n",
    "             &nbsp;&nbsp;&nbsp;&nbsp;print (\"x is 5\")<br>\n",
    "            </p> \n",
    "        </td>\n",
    "    </tr>\n",
    "</table>\n",
    "\n",
    "Note that Python uses the ':' character to tell it the start of a block of code.  The code block ends with the\n",
    "next exdented statement. \n",
    "\n",
    "Note that the indentation must be consistent.  In other words, you cannot indent one line with three spaces and another line with four spaces in the same block.  Python will give you an error if you do this. \n",
    "\n",
    "\n",
    "<table>\n",
    "    <tr>\n",
    "        <td width = '1100px'>\n",
    "            <p style ='font-family: courier'>\n",
    "            Incorrect:<br>\n",
    "            ```python\n",
    "            if a is 1:\n",
    "                a = a + 1\n",
    "               print (\"The value of a is \",a) # This statement is only indented three spaces, the one above, four\n",
    "            ```\n",
    "             <br>\n",
    "             Correct:<br>\n",
    "             ```python\n",
    "             if a is 1:\n",
    "                 a = a + 1<br>\n",
    "                 print (\"The value of a is \",a)\n",
    "             ```\n",
    "            </p> \n",
    "        </td>\n",
    "    </tr>\n",
    "</table>\n",
    "\n"
   ]
  },
  {
   "cell_type": "markdown",
   "metadata": {
    "collapsed": true
   },
   "source": [
    "<h3>Comments in Python</h3>\n",
    "\n",
    "Python uses the '#' character as a comment.  Any character on the same line after the hash symbol will be ignored \n",
    "by Python. For example:\n",
    "\n",
    "<table>\n",
    "    <tr>\n",
    "        <td width = '700px'>\n",
    "            <p style ='font-family: courier'>\n",
    "             if x is 5:<br>\n",
    "             \\# This line is a comment.  Nothing here will be interpreted by Python.<br>\n",
    "             &nbsp;&nbsp;&nbsp;&nbsp;print (\"x is 5\")<br>\n",
    "            </p> \n",
    "        </td>\n",
    "    </tr>\n",
    "</table>\n"
   ]
  },
  {
   "cell_type": "markdown",
   "metadata": {},
   "source": [
    "<h3> Quotes in Python</h3><br>\n",
    "Python accepts single quotes (''), double quotes (\"\") or the triple quote (''').  \n",
    "Single quotes and double quotes in Python are interchangeable.  Triple quotes indicate a multi-line \n",
    "string. For example:\n",
    "\n",
    "<table>\n",
    "    <tr>\n",
    "        <td width = '600px'>\n",
    "            <p style ='font-family: courier'>\n",
    "             if x is 5:<br>\n",
    "             ''' This is a multi-line quote.<br>\n",
    "                 &nbsp;&nbsp;&nbsp; We're testing the value of 5 and printing out<br> \n",
    "                 &nbsp;&nbsp;&nbsp;&nbsp;\"x is 5\" if x is equal to 5. <br>\n",
    "             '''<br>\n",
    "             &nbsp;&nbsp;&nbsp;&nbsp;print (\"x is 5\")<br>\n",
    "            </p> \n",
    "        </td>\n",
    "    </tr>\n",
    "</table>\n",
    "\n"
   ]
  },
  {
   "cell_type": "markdown",
   "metadata": {},
   "source": [
    "<h3>Multiple statements on a line</h3><br>\n",
    "Python allows for multiple statements on a single line, separated by the semi-colon (;).  For example:\n",
    "<table>\n",
    "    <tr>\n",
    "        <td width = '400px'>\n",
    "            <p style ='font-family: courier'>\n",
    "             if x is 5:<br>\n",
    "             &nbsp;&nbsp;&nbsp;&nbsp; y = 6; z = x + y; print (\"z is \",z)<br>\n",
    "            </p> \n",
    "        </td>\n",
    "    </tr>\n",
    "</table>"
   ]
  },
  {
   "cell_type": "markdown",
   "metadata": {},
   "source": [
    "<h2>Variables and Values</h2>\n",
    "Python allows you to create and store objects by binding them to variable names.  Creating an object reserves space in memory for that object.  Everything in Python is an object, including numbers (such as integers, floating point numbers and complex numbers), strings, functions, classes and many other things.  Python uses the assignment operator (=) to bind these variable names to objects.  For example:\n",
    "\n",
    "<table>\n",
    "    <tr>\n",
    "        <td width = '800px'>\n",
    "            <p style ='font-family: courier'>\n",
    "                 x = 1 # This creates an integer object and binds it to the name 'x'<br>\n",
    "                 y = 2.0 # This creates a floating point object and binds it to the name 'y'<br>\n",
    "                 s = 'Hello World' # Creates a string object and binds it to the name 's'<br>\n",
    "                 mycomplex = 4j # Creates a complex number object and binds it to the name 'mycomplex'<br>\n",
    "                 print (x,y,s,mycomplex)\n",
    "            </p> \n",
    "        </td>\n",
    "    </tr>\n",
    "</table>\n",
    "\n",
    "\n"
   ]
  },
  {
   "cell_type": "code",
   "execution_count": 3,
   "metadata": {
    "collapsed": false
   },
   "outputs": [
    {
     "name": "stdout",
     "output_type": "stream",
     "text": [
      "1 2.0 Hello World 4j\n"
     ]
    }
   ],
   "source": [
    "x = 1\n",
    "y = 2.0\n",
    "s = 'Hello World'\n",
    "mycomplex = 4j\n",
    "print (x,y,s,mycomplex)"
   ]
  },
  {
   "cell_type": "markdown",
   "metadata": {},
   "source": [
    "Additionally, it is possible to assign a single value to multiple names at the same time. For example:\n",
    "<table>\n",
    "    <tr>\n",
    "        <td width = '800px'>\n",
    "            <p style ='font-family: courier'>\n",
    "                 a = b = c = 1<br>\n",
    "                 print (a,b,c)\n",
    "            </p> \n",
    "        </td>\n",
    "    </tr>\n",
    "</table>\n",
    "\n",
    "Also, it is possible to assign multiple value to multiple names also at the same time. \n",
    "\n",
    "<table>\n",
    "    <tr>\n",
    "        <td width = '800px'>\n",
    "            <p style ='font-family: courier'>\n",
    "                 a,b,c =1,2,'Foo' <br>\n",
    "                 print (a,b,c)\n",
    "            </p> \n",
    "        </td>\n",
    "    </tr>\n",
    "</table>\n"
   ]
  },
  {
   "cell_type": "code",
   "execution_count": 6,
   "metadata": {
    "collapsed": false
   },
   "outputs": [
    {
     "name": "stdout",
     "output_type": "stream",
     "text": [
      "1 1 1\n",
      "1 2 Foo\n"
     ]
    }
   ],
   "source": [
    "a=b=c=1\n",
    "print (a,b,c)\n",
    "a,b,c = 1,2,'Foo'\n",
    "print (a,b,c)"
   ]
  },
  {
   "cell_type": "markdown",
   "metadata": {},
   "source": [
    "<h3>Data Types in Python </h3><br>\n",
    "Python contains five standard data types.\n",
    "\n",
    "1. Numbers\n",
    "  -  Integers\n",
    "  -  Floating Point\n",
    "  -  Complex\n",
    "2. Strings\n",
    "3. Tuples\n",
    "4. Lists\n",
    "5. Dictionaries\n",
    "\n",
    "\n",
    "    "
   ]
  },
  {
   "cell_type": "markdown",
   "metadata": {},
   "source": [
    "<h3>Numeric Types in Python </h3><br>\n",
    "\n",
    "Following is an example of Python numeric types\n",
    "\n",
    "<table width = '800px'>\n",
    "<tr> <th> Integer</th> <th> Floating Point </th> <th> Complex </th> </tr>\n",
    "\n",
    "    <tr> <td >10 </td> <td> 20.0 </td> <td> 4+3j </td> </tr>\n",
    "    <tr> <td> -10 </td> <td> 21+e8 </td> <td>  10.j </td> </tr>\n",
    "    <tr> <td> 075</td> <td> -15.6 </td> <td>  0.023j </td> </tr>\n",
    "    <tr> <td> 0x2f</td> <td> 14-e5 </td> <td> 2e + 4j  </td> </tr>\n",
    "</table>\n",
    "\n",
    "- Integers with a 0 prefix are *Base 8* or *octal* numbers. \n",
    "- Integers with a 0x prefix are *Base 16* or *hexadecimal* numbers. \n",
    "\n",
    "Numerical operators\n",
    "Python supports the standard arithmetic operators.  Below is a table of the most commonly used arithmetic operators and their operations.\n",
    "\n",
    "<table width = '800px'>\n",
    "    <tr> <th>Operator</th> <th> Operation</th> <th>Example</th></tr>\n",
    "    <tr> <td >+ </td> <td> Add two numbers </td> <td> a + b</td> </tr>\n",
    "    <tr> <td> - </td> <td> Subtract two numbers </td> <td> a - b</td> </tr>\n",
    "    <tr> <td> \\* </td> <td>Multiply two numbers </td> <td> a * b </td></tr>\n",
    "    <tr> <td> /</td> <td> Floating point division </td><td>a / b</td></tr>\n",
    "    <tr><td> //</td> <td> Integer (Floor) division</td><td>a // b </td><tr>\n",
    "    <tr><td> \\*\\*</td><td> Exponentiation </td><td> a ** 2 </td></tr>\n",
    "    <tr><td> % </td><td> Modulo (Remainder) </td> <td>a % b</td><tr>\n",
    "</table><br>\n",
    "    Python also supports the standard comparison operators. Below is a table of the most commonly used comparison operators and their operations. \n",
    "    \n",
    "\n",
    "    <table width = '800px'>\n",
    "    <tr> <th>Operator</th> <th> Operation</th> <th>Example</th></tr>\n",
    "    <tr> <td > == </td> <td> Compare two objects for equality </td> <td> a == b</td> </tr>\n",
    "    <tr> <td> != </td> <td> Compare two objects for inequality </td> <td> a != b</td> </tr>\n",
    "    <tr> <td> &gt; </td> <td> Compare if object a is greater than object b </td> <td> a &gt; b </td></tr>\n",
    "    <tr> <td> &gt;= </td> <td> Compare if object a is greater than or equal to object b</td><td>a &gt;= b</td></tr>\n",
    "    <tr><td> &lt; </td> <td> Compare if object a is less than object b </td><td>a &lt; b </td><tr>\n",
    "    <tr><td> &lt;= </td><td> Compare if object is a less than or equal to object b </td><td> a &lt;= b </td></tr>    \n",
    "    </table>"
   ]
  },
  {
   "cell_type": "markdown",
   "metadata": {},
   "source": [
    "Python has a number of assignment operators.  The following table shows the complete list: <br>\n",
    "    \n",
    "<table width = '800px'>\n",
    "    <tr> <th>Operator</th> <th> Operation</th> <th>Example</th></tr>\n",
    "    <tr> <td >=</td> <td> Assign a value from the right side of the operator to the left </td> <td> a = b</td> </tr>\n",
    "    <tr> <td> += </td> <td> Add the value on the right side of the operator to the variable on the left and assign the resulting value to the operand on the left</td> <td> a += b </td> </tr>\n",
    "    <tr> <td> -= </td> <td> Subtract the value on the right side of the operator to the variable on the left and assign the resulting value to the operand on the left</td> <td> a -= b </td></tr>\n",
    "    <tr> <td> \\*= </td><td>Multiply the value on the right side of the operator to the variable on the left and assign the resulting value to the operand on the left </td>  </td><td>a \\*= b</td></tr>\n",
    "    <tr><td> /=</td> <td>Divide the value on the right side of the operator to the variable on the left and assign the resulting value to the operand on the left </td><td>a // b </td><tr>\n",
    "    <tr><td> %=</td><td> Takes the modulus of the two values on either side and assign the resulting value to the operand on the left </td><td> a %= b </td></tr>\n",
    "    <tr><td>\\*\\*= </td><td> Performs the exponentiation function and takes a to the power of b and assigns the result to the left hand operand </td> <td>a **= b</td><tr>\n",
    "     <tr><td>//= </td><td> Performs floor (integer) division of a and b  and assigns the value to the operand on the left. </td> <td>a **= b</td><tr>\n",
    "</table><br>\n",
    "    "
   ]
  },
  {
   "cell_type": "markdown",
   "metadata": {},
   "source": [
    "<h3> The Python boolean type</h3>\n",
    "\n",
    "Python also as the concept of a *boolean* type.  This type holds two possible values *True* and *False*. \n",
    "There are a number of operators that work with boolean types. Here is a table of these operators. \n",
    "\n",
    "Python also has logical operators, such as *and* and *or* and *not*.  The following table explains these operators:<br>\n",
    " <table width = '800px'>\n",
    "    <tr> <th>Operator</th> <th> Operation</th> <th>Example</th></tr>\n",
    "    <tr> <td > and </td> <td> A boolean expression is true if both operands are True </td> <td> if a< 5 and b < 10:</td> </tr>\n",
    "    <tr> <td> or </td> <td> A boolean expression is true if either operand is True </td> <td> if a < 5 or b < 10:</td> </tr>\n",
    "    <tr> <td> not </td> <td> A boolean expression is true if the operand is not true  </td> <td> if not a < b: </td></tr>  \n",
    "    </table>"
   ]
  },
  {
   "cell_type": "code",
   "execution_count": 8,
   "metadata": {
    "collapsed": false
   },
   "outputs": [
    {
     "name": "stdout",
     "output_type": "stream",
     "text": [
      "a is 5\n",
      "b is 10\n",
      "They are both True\n",
      "One or both are True\n",
      "A is not 4 and b is not 11\n"
     ]
    }
   ],
   "source": [
    "# Here is an example of Python code using booleans\n",
    "# First, let's set our operands\n",
    "a = 5\n",
    "b = 10\n",
    "\n",
    "# Now, let's do some boolean tests\n",
    "if a == 5:\n",
    "    print ('a is 5')\n",
    "if b == 10:\n",
    "    print ('b is 10')\n",
    "\n",
    "# Note that only if the expression (a == 5) evaluates to True will the next statement be executed. \n",
    "\n",
    "# Example of Logical operators. \n",
    "\n",
    "if (a == 5 and b == 10):\n",
    "    print (\"They are both True\")\n",
    "if (a == 5 or b == 10):\n",
    "    print (\"One or both are True\")\n",
    "if (not (a == 4 and b == 11)):\n",
    "    print (\"A is not 4 and b is not 11\")\n",
    "    \n",
    "    "
   ]
  },
  {
   "cell_type": "markdown",
   "metadata": {},
   "source": [
    "<h3> The identity operators </h3><br>\n",
    "Python also has the concept of *identity* operators.  The identity operator compares the memory locations of two bound names to see if they are equal, if so, then the two name refer to the exact same object.  We can see the exact value of the object by using the built in function *id()*.  \n",
    "\n",
    "The identity operators are:\n",
    "\n",
    "<table width = '800px'>\n",
    "    <tr> <th>Operator</th> <th> Operation</th> <th>Example</th></tr>\n",
    "    <tr> <td > is </td> <td>The expression is true if both sides of the operator point to the same memory location.  Otherwise false </td> <td> if a is b:</td> </tr>\n",
    "    <tr> <td> is not </td> <td> The expression is true if the two operands point to different memory locations.  </td> <td> if a is not b:</td> </tr>\n",
    "   \n",
    "</table>\n",
    "    \n",
    "It is important to note that the expressions a is b and a == b are **do not test the same things.**  The first test will test the memory locations of the variables, the second will test the value stored in the variable. \n",
    "\n"
   ]
  },
  {
   "cell_type": "code",
   "execution_count": 10,
   "metadata": {
    "collapsed": false
   },
   "outputs": [
    {
     "name": "stdout",
     "output_type": "stream",
     "text": [
      "id of a is  10914656\n",
      "id of b is  10914688\n",
      "id of c is  10914496\n",
      "id of d is  10914496\n",
      "a is not the same as b\n",
      "c is the same as d\n",
      "These two strings do not have the same identity\n",
      "These two strings have the same value\n"
     ]
    }
   ],
   "source": [
    "# Here is an example using the identity operators. \n",
    "# First, we set the initial value for the operands. \n",
    "a = 10\n",
    "b = 11\n",
    "c = 5\n",
    "d = 5\n",
    "s1 = 'This is a string'\n",
    "s2 = 'This is a string'\n",
    "\n",
    "# Next, we print out the identities of each variable\n",
    "\n",
    "print (\"id of a is \", id(a))\n",
    "print (\"id of b is \", id(b))\n",
    "print (\"id of c is \", id(c))\n",
    "print (\"id of d is \", id(d))\n",
    "\n",
    "# Now we do the identity tests. \n",
    "\n",
    "if a is b:\n",
    "    print (\"a is the same as b \")\n",
    "else:\n",
    "    print (\"a is not the same as b\")\n",
    "    \n",
    "if c is d:\n",
    "    print (\"c is the same as d\")\n",
    "else:\n",
    "    print (\"c is not the same as d\")\n",
    "    \n",
    "# Here we are testing the difference between the is operator and the == operator.     \n",
    "if s1 is s2:\n",
    "    print (\"These two strings have the same identity\")\n",
    "else:\n",
    "    print (\"These two strings do not have the same identity\")\n",
    "\n",
    "if s1 == s2:\n",
    "    print (\"These two strings have the same value\")\n",
    "else:\n",
    "    print (\"These two strings do not have the same value\")\n",
    "    "
   ]
  },
  {
   "cell_type": "markdown",
   "metadata": {},
   "source": [
    "<h3> Operator Precedence </h3>\n",
    "\n",
    "Operators in Python have a precedence order, that is, given a statement with multiple operators, Python will decide which operator to do first based on this order.   For example given the statement \n",
    "<table>\n",
    "<tr>\n",
    "<td>\n",
    "<p style = 'font-family:courier'>\n",
    "    a + b * c\n",
    "</p>\n",
    "</td></tr>\n",
    "</table>\n",
    "\n",
    "Python will execute the multiplication statement first, and then add the result to the value stored in the *a* variable.  \n",
    "\n",
    "The following table shows the operator precedence order. \n",
    "\n",
    "<table>\n",
    "<tr><th> Operator </th><th>Operation</th></tr>\n",
    "<tr>\n",
    "<tr>\n",
    "<td>\\*\\*</td>\n",
    "<td>Exponentiation (raise to the power)</td>\n",
    "</tr><tr><td>~ + -</td><td>Complement, unary plus and minus </td></tr><tr><td>\\* / % //</td><td>Multiply, divide, modulo and floor division</td></tr>\n",
    "<tr><td>+ -</td><td>Addition and subtraction</td></tr>\n",
    "<tr><td>&gt;&gt; &lt;&lt;</td><td>Right and left bitwise shift</td></tr>\n",
    "<tr><td>&amp;</td><td>Bitwise 'AND'<td></tr>\n",
    "<tr><td>^ |</td><td>Bitwise exclusive 'OR' and regular 'OR'</td></tr>\n",
    "<tr><td>&lt;= &lt; &gt; &gt;=</td><td>Comparison operators</td></tr>\n",
    "<tr><td>&lt;&gt; == !=</td><td>Equality operators</td></tr>\n",
    "<tr><td>= %= /= //= -= += *= **=</td><td>Assignment operators</td></tr>\n",
    "<tr><td>is is not</td><td>Identity operators</td></tr>\n",
    "<tr><td>in not in</td><td>Membership operators</td></tr>\n",
    "<tr><td>not or and</td><td>Logical operators</td></tr>\n",
    "</table>"
   ]
  },
  {
   "cell_type": "markdown",
   "metadata": {},
   "source": [
    "<h3> Python Strings </h3>\n",
    "\n",
    "The Python string class is used to store contiguous sets of data within quotation marks.  In Python both single quotes and double quotes are available for use. The triple quote is used for multiline strings.  For example:\n",
    "\n",
    "<table>\n",
    "<tr>\n",
    "<td>\n",
    "<p style = 'font-family:courier'>\n",
    "s1 = 'Hello World' # Single quoted string<br>\n",
    "s2 = \"Goodbye World\" # Double quoted string<br>\n",
    "# Multiline string <br>\n",
    "s3 = ''' This is a<br>\n",
    "      &nbsp;&nbsp;&nbsp;&nbsp;&nbsp;&nbsp;&nbsp;&nbsp;   multiline string<br>\n",
    "      &nbsp;&nbsp;&nbsp;&nbsp;&nbsp;'''\n",
    "</p>\n",
    "</td>\n",
    "</tr>\n",
    "</table>\n",
    "\n",
    "We can access individual elements of a string by using the [] operator. The [] operator uses the following parameters:<br>\n",
    "[*starting position*:*ending position -1*:*step*]. The string returned by the [] operator is called a *slice*.  The operation to do this is called *slicing*. It is possible for any or all of the parameters to be negative numbers.  For the start and end position that means Python counts backward from the end of the string.  \n",
    "\n",
    "Let's take a look at some examples:\n",
    "<table>\n",
    "<tr>\n",
    "<td>\n",
    "<p style = 'font-family:courier'>\n",
    "# The source string to use for our slicing examples.<br>\n",
    "datastring = \"Hello World\"<br>\n",
    "\n",
    "# Get the substring starting at position 2 and ending at position 6.<br> \n",
    "print (datastring[2:7])<br>\n",
    "# Get the substring that contains every second element of the source string<br>\n",
    "print (datastring[::2])<br>\n",
    "# Print the string in reverse order. <br> \n",
    "print (datastring[::-1])<br>\n",
    "# Get the substring that contains a string with eight characters starting from the end of the string <br>\n",
    "print (datastring[-9::]) <br>\n",
    "# Get the substring that starts nine positions from the end and finishes three positions from the end. <br> \n",
    "print (datastring[-9:-3]) <br>\n",
    "# We can put in a function rather than a literal value as well into a slice. Here we pass in the built-in<br> \n",
    "# function len which calculates and returns the length of the datastring.<br>\n",
    "print (datastring[:len(datastring)])<br>\n",
    "</p>\n",
    "</td>\n",
    "</tr>\n",
    "</table>"
   ]
  },
  {
   "cell_type": "code",
   "execution_count": 20,
   "metadata": {
    "collapsed": false
   },
   "outputs": [
    {
     "name": "stdout",
     "output_type": "stream",
     "text": [
      "llo W\n",
      "HloWrd\n",
      "dlroW olleH\n",
      "llo World\n",
      "llo Wo\n",
      "Hello World\n"
     ]
    }
   ],
   "source": [
    "# The source string to use for our slicing examples.\n",
    "datastring = \"Hello World\"\n",
    "\n",
    "# Get the substring starting at position 2 and ending at position 6. \n",
    "print (datastring[2:7])\n",
    "# Get the substring that contains every second element of the source string\n",
    "print (datastring[::2])\n",
    "# Print the string in reverse order. \n",
    "print (datastring[::-1])\n",
    "# Get the substring that contains a string with eight characters starting from the end of the string\n",
    "print (datastring[-9::])\n",
    "# Get the substring that starts nine positions from the end and finishes three positions from the end. \n",
    "print (datastring[-9:-3])\n",
    "# We can put in a function rather than a literal value as well into a slice. Here we pass in the built-in \n",
    "# function len which calculates and returns the length of the datastring.\n",
    "print (datastring[:len(datastring)])"
   ]
  },
  {
   "cell_type": "markdown",
   "metadata": {},
   "source": [
    "Python strings are immutable.  That is to say, it is not possible to change the value of the string once it has been bound to the variable name.  Therefore, while it is possible to point the name at a new string, you cannot change the current value in the string object.  Attempting to do so will result in an error. \n",
    "\n",
    "<table>\n",
    "<tr>\n",
    "<td>\n",
    "<p style = 'font-family:courier'>\n",
    "datastring = \"Hello World\"<br>\n",
    "datastring[1] = 'a' # Trying to change Hello World to Hallo World. <br> \n",
    "---------------------------------------------------------------------------<br>\n",
    "TypeError                                 Traceback (most recent call last)<br>\n",
    "&lt;ipython-input-21-d058df777aad&gt; in &lt;module&gt;()<br>\n",
    "&nbsp;&nbsp;&nbsp;&nbsp;&nbsp;      1 datastring = \"Hello World\"<br>\n",
    "----> 2 datastring[1] = 'a' # Trying to change Hello World to Hallo World.  <br>\n",
    "<br>\n",
    "TypeError: 'str' object does not support item assignment<br>\n",
    "</p>\n",
    "</td>\n",
    "</tr>\n",
    "</table>"
   ]
  },
  {
   "cell_type": "code",
   "execution_count": 21,
   "metadata": {
    "collapsed": false
   },
   "outputs": [
    {
     "ename": "TypeError",
     "evalue": "'str' object does not support item assignment",
     "output_type": "error",
     "traceback": [
      "\u001b[0;31m---------------------------------------------------------------------------\u001b[0m",
      "\u001b[0;31mTypeError\u001b[0m                                 Traceback (most recent call last)",
      "\u001b[0;32m<ipython-input-21-d058df777aad>\u001b[0m in \u001b[0;36m<module>\u001b[0;34m()\u001b[0m\n\u001b[1;32m      1\u001b[0m \u001b[0mdatastring\u001b[0m \u001b[0;34m=\u001b[0m \u001b[0;34m\"Hello World\"\u001b[0m\u001b[0;34m\u001b[0m\u001b[0m\n\u001b[0;32m----> 2\u001b[0;31m \u001b[0mdatastring\u001b[0m\u001b[0;34m[\u001b[0m\u001b[0;36m1\u001b[0m\u001b[0;34m]\u001b[0m \u001b[0;34m=\u001b[0m \u001b[0;34m'a'\u001b[0m \u001b[0;31m# Trying to change Hello World to Hallo World.\u001b[0m\u001b[0;34m\u001b[0m\u001b[0m\n\u001b[0m",
      "\u001b[0;31mTypeError\u001b[0m: 'str' object does not support item assignment"
     ]
    }
   ],
   "source": [
    "datastring = \"Hello World\"\n",
    "datastring[1] = 'a' # Trying to change Hello World to Hallo World. "
   ]
  },
  {
   "cell_type": "markdown",
   "metadata": {},
   "source": [
    "<h3> Python String Operators </h3><br>\n",
    "Python has two string operators.  The + and the *.  \n",
    "+ allows concatenation of two strings.  * is the repitition operator.  For example:\n",
    "\n",
    "<table>\n",
    "<tr>\n",
    "<td>\n",
    "<p style = 'font-family:courier'>\n",
    "string1 = \"Hello\"<br>\n",
    "string2 = 'World'<br>\n",
    "# Here we concatenate the value in string1, a white space and the value in string2<br>\n",
    "string3 = string1 + ' ' + string2<br>\n",
    "print (string3)<br>\n",
    "<br>\n",
    "# Here we set the value of string 1 to Hello three times.<br>\n",
    "string1 = 'Hello' * 3 <br>\n",
    "print (string1)<br>\n",
    "</p>\n",
    "</td>\n",
    "</tr>\n",
    "</table>"
   ]
  },
  {
   "cell_type": "code",
   "execution_count": 24,
   "metadata": {
    "collapsed": false
   },
   "outputs": [
    {
     "name": "stdout",
     "output_type": "stream",
     "text": [
      "Hello World\n",
      "HelloHelloHello\n"
     ]
    }
   ],
   "source": [
    "string1 = \"Hello\"\n",
    "string2 = 'World'\n",
    "# Here we concatenate the value in string1, a white space and the value in string2\n",
    "string3 = string1 + ' ' + string2\n",
    "print (string3)\n",
    "\n",
    "# Here we set the value of string 1 to Hello three times.\n",
    "string1 = 'Hello' * 3 \n",
    "print (string1)"
   ]
  },
  {
   "cell_type": "markdown",
   "metadata": {},
   "source": [
    "<h3> Data Type Conversions </h3><br>\n",
    "In Python it is possible to convert from one object type to another.  Python provides built-in methods to do so. \n",
    "This table lists the possible conversion functions. \n",
    "<table>\n",
    "<tr><th>Function</th><th>Description</th></tr>\n",
    "<tr valign=\"top\"><td ><p>int(x [,base])</p></td><td ><p>Converts x to an integer. base specifies the base if x istring.</p></td></tr>\n",
    "<tr valign=\"top\"><td><p>long(x [,base] )</p></td><td ><p>Converts x to a long integer. base specifies the base if x is a string.</p></td></tr>\n",
    "<tr valign=\"top\"><td ><p>float(x)</p></td><td ><p>Converts x to a floating-point number.</p></td></tr>\n",
    "<tr valign=\"top\"><td ><p>complex(real [,imag])</p></td><td >\n",
    "<p>Creates a complex number.</p></td></tr>\n",
    "<tr valign=\"top\"><td ><p>str(x)</p></td><td ><p>Converts object x to a string representation.</p></td></tr>\n",
    "<tr valign=\"top\"><td ><p>repr(x)</p></td><td ><p>Converts object x to an expression string.</p></td></tr>\n",
    "<tr valign=\"top\"><td ><p>eval(str)</p></td><td ><p>Evaluates a string and returns an object.</p></td></tr>\n",
    "<tr valign=\"top\"><td ><p>tuple(s)</p></td><td ><p>Converts s to a tuple.</p></td></tr>\n",
    "<tr valign=\"top\"><td ><p>list(s)</p></td><td ><p>Converts s to a list.</p></td></tr>\n",
    "<tr valign=\"top\"><td ><p>set(s)</p></td><td ><p>Converts s to a set.</p></td></tr>\n",
    "<tr valign=\"top\"><td ><p>dict(d)</p></td><td ><p>Creates a dictionary. d must be a sequence of (key,value) tuples</p></td></tr>\n",
    "<tr valign=\"top\"><td ><p>frozenset(s)</p></td><td ><p>Converts s to a frozen set.</p></td></tr>\n",
    "<tr valign=\"top\"><td ><p>chr(x)</p></td><td ><p>Converts an integer to a character.</p></td></tr>\n",
    "<tr valign=\"top\"><td ><p>unichr(x)</p></td><td ><p>Converts an integer to a Unicode character.</p></td></tr>\n",
    "<tr valign=\"top\"><td ><p>ord(x)</p></td><td ><p>Converts a single character to its integer value.</p></td></tr>\n",
    "<tr valign=\"top\"><td ><p>hex(x)</p></td><td >\n",
    "<p>Converts an integer to a hexadecimal string.</p></td></tr>\n",
    "<tr valign=\"top\"><td ><p>oct(x)</p></td><td ><p>Converts an integer to an octal string.</p></td></tr>\n",
    "</table>\n",
    "\n",
    "A common conversion is from string to a numeric type.  This is because, in Python, all data coming in from an I/O operation is of type 'string'.  If you want to do numeric or other types of operations on data retrieved from an I/O operation, you must convert it to the appropriate type.  For example:\n",
    "\n",
    "<table>\n",
    "<tr>\n",
    "<td>\n",
    "<p style = 'font-family:courier'>\n",
    "a = '18'<br>\n",
    "b = '6'<br>\n",
    "\\# This next operation will cause an error. <br>\n",
    "try:<br>\n",
    "&nbsp;&nbsp;&nbsp;&nbsp;c = a / b<br>\n",
    "except TypeError:<br>\n",
    "&nbsp;&nbsp;&nbsp;&nbsp;print (\"This is an invalid statement.  a and b are not numeric\")<br>\n",
    "\\# In order for us to do division with a and b, we must convert them to numeric types.<br> \n",
    "c = int (a)/int (b)<br>\n",
    "print (c)<br>\n",
    "</p>\n",
    "</td>\n",
    "</tr>\n",
    "</table>\n",
    "\n"
   ]
  },
  {
   "cell_type": "code",
   "execution_count": 28,
   "metadata": {
    "collapsed": false
   },
   "outputs": [
    {
     "name": "stdout",
     "output_type": "stream",
     "text": [
      "This is an invalid statement.  a and b are not numeric\n",
      "3.0\n"
     ]
    }
   ],
   "source": [
    "a = '18'\n",
    "b = '6'\n",
    "# This next operation will cause an error.\n",
    "try:\n",
    "    c = a / b\n",
    "except TypeError:\n",
    "    print (\"This is an invalid statement.  a and b are not numeric\")\n",
    "# In order for us to do division with a and b, we must convert them to numeric types. \n",
    "c = int (a)/int (b)\n",
    "print (c)\n",
    "\n",
    "\n"
   ]
  },
  {
   "cell_type": "markdown",
   "metadata": {},
   "source": [
    "<h3>String methods</h3>\n",
    "\n",
    "String objects in Python also contain many built-in methods.  These methods can be accessed via the '.' operator.\n",
    "For example\n",
    "<table>\n",
    "<tr>\n",
    "<td>\n",
    "<p style='font-family:courier'>\n",
    "mystring = 'Hello World'<br>\n",
    "# Let's reset mystring's value to HELLO WORLD<br>\n",
    "mystring = mystring.upper()<br>\n",
    "print (mystring)<br>\n",
    "</p>\n",
    "</td>\n",
    "</tr>\n",
    "</table>\n",
    "\n",
    "Here we are able to use the *upper()* method, which is part of the Python string class.  An easy way to find out what methods are available for a class is to use the built-in function *dir()*. For example:\n",
    "<table>\n",
    "<tr>\n",
    "<td>\n",
    "<p style='font-family:courier'>\n",
    "mystring = 'Hello World'<br>\n",
    "dir(mystring)\n",
    "</p>\n",
    "</td>\n",
    "</tr>\n",
    "</table>\n",
    "\n",
    "Python will print out a list of all the methods associated with the string class."
   ]
  },
  {
   "cell_type": "code",
   "execution_count": 29,
   "metadata": {
    "collapsed": false
   },
   "outputs": [
    {
     "name": "stdout",
     "output_type": "stream",
     "text": [
      "HELLO WORLD\n"
     ]
    }
   ],
   "source": [
    "mystring = 'Hello World'\n",
    "# Let's reset mystring's value to HELLO WORLD\n",
    "mystring = mystring.upper()\n",
    "print (mystring)"
   ]
  },
  {
   "cell_type": "code",
   "execution_count": null,
   "metadata": {
    "collapsed": false
   },
   "outputs": [],
   "source": [
    "mystring = 'Hello'\n",
    "dir(mystring)"
   ]
  },
  {
   "cell_type": "markdown",
   "metadata": {},
   "source": [
    "### Quick Exercise:\n",
    "1.  Declare a string variable called *mystring*. Set its value to 'This is an ex-parrot!'\n",
    "2.  Print out the string value completely in lower case. \n",
    "3.  Print out the number of characters in this string."
   ]
  },
  {
   "cell_type": "markdown",
   "metadata": {},
   "source": [
    "<h3>The List Type</h3><br>\n",
    "\n",
    "The Python list is one of the core data structures in the language.  Other languages may refer to this type of data structure as an array.  Unlike other languages, such as Java or C, Python lists are dynamic, that is to say, that can grow in size as the program runs, rather than having to be re-allocated if the list becomes too small to hold all of the elements. \n",
    "\n",
    "We use the [] operator to specify a list.  For example:\n",
    "<table>\n",
    "<tr>\n",
    "<td>\n",
    "<p style = 'font-family:courier'>\n",
    "# Declare a list with five elements.  \n",
    "mylist = [1,2,3,4,5]<br>\n",
    "# Declare an empty list<br>\n",
    "mylist1 = []\n",
    "</p>\n",
    "</td>\n",
    "</tr>\n",
    "</table>\n",
    "\n",
    "We can also use the [] operator to access individual elements of the list.\n",
    "\n",
    "<table>\n",
    "<tr>\n",
    "<td>\n",
    "<p style = 'font-family:courier'>\n",
    "# Declare a list with five elements.  \n",
    "mylist = [1,2,3,4,5]<br>\n",
    "print (mylist[0]) # Note that we start counting from 0!\n",
    "</p>\n",
    "</td>\n",
    "</tr>\n",
    "</table>\n",
    "\n",
    "However, if we want to add a new element to the list, we must use a list method such as *append()* or *extend()*.\n",
    "Attempting to use the [] operator to add a new element to the list will produce an error. Here is an example of Python using the list type. \n",
    "<table>\n",
    "<tr>\n",
    "<td>\n",
    "<p style ='font-family:courier'>\n",
    "# Create our sample list.  Note the use of '[]' to tell Python that mylist is of type 'list'. <br>\n",
    "mylist = [1,2,3,4,5] <br>\n",
    "# Let's create another, empty list <br>\n",
    "mylist1 = []<br>\n",
    "# Let's add a value to the end of mylist using the list method append()<br>\n",
    "mylist.append(6)<br>\n",
    "# Printing the list now gives 1,2,3,4,5,6 <br>\n",
    "print (mylist) <br>\n",
    "# Let's remove the sixth element. (Remember, we start counting from zero!) <br>\n",
    "mylist.pop(5)<br>\n",
    "print (mylist)<br>\n",
    "# Let's add a new element at index position 2<br>\n",
    "mylist.insert(2,9) <br>\n",
    "print (mylist) <br>\n",
    "#  Now let's get rid of it again. Note that remove takes the value of the element, not its index position.<br> \n",
    "mylist.remove(9)<br>\n",
    "print (mylist)<br>\n",
    "# Now let's add some values to mylist1<br>\n",
    "mylist1.append('A')<br>\n",
    "mylist1.append('B')<br>\n",
    "mylist1.append('C')<br>\n",
    "# Let's join mylist and mylist1 together. <br>\n",
    "mylist.extend(mylist1)<br>\n",
    "print (mylist)<br>\n",
    "</p>\n",
    "</td>\n",
    "</tr>\n",
    "</table>\n",
    "\n"
   ]
  },
  {
   "cell_type": "code",
   "execution_count": 39,
   "metadata": {
    "collapsed": false
   },
   "outputs": [
    {
     "name": "stdout",
     "output_type": "stream",
     "text": [
      "[1, 2, 3, 4, 5, 6]\n",
      "[1, 2, 3, 4, 5]\n",
      "[1, 2, 9, 3, 4, 5]\n",
      "[1, 2, 3, 4, 5]\n",
      "[1, 2, 3, 4, 5, 'A', 'B', 'C']\n"
     ]
    }
   ],
   "source": [
    "# Create our sample list.  Note the use of '[]' to tell Python that mylist is of type 'list'. \n",
    "mylist = [1,2,3,4,5] \n",
    "# Let's create another, empty list\n",
    "mylist1 = []\n",
    "# Let's add a value to the end of mylist using the list method append()\n",
    "mylist.append(6)\n",
    "# Printing the list now gives 1,2,3,4,5,6\n",
    "print (mylist)\n",
    "# Let's remove the sixth element. (Remember, we start counting from zero!)\n",
    "mylist.pop(5)\n",
    "print (mylist)\n",
    "# Let's add a new element at index position 2\n",
    "mylist.insert(2,9)\n",
    "print (mylist)\n",
    "#  Now let's get rid of it again. Note that remove takes the value of the element, not its index position. \n",
    "mylist.remove(9)\n",
    "print (mylist)\n",
    "# Now let's add some values to mylist1\n",
    "mylist1.append('A')\n",
    "mylist1.append('B')\n",
    "mylist1.append('C')\n",
    "# Let's join mylist and mylist1 together.\n",
    "mylist.extend(mylist1)\n",
    "print (mylist)"
   ]
  },
  {
   "cell_type": "markdown",
   "metadata": {},
   "source": [
    "<h3> List slicing </h3><br>\n",
    "As we saw with strings, we can also use slicing with lists.  The same notation applies to lists as it does to strings.  For example:\n",
    "<table>\n",
    "<tr>\n",
    "<td>\n",
    "<p style = 'font-family:courier'>\n",
    "# Create our source list.<br>\n",
    "mylist = ['a','b','c','d','e'] <br>\n",
    "# Let's get element 2-4. <br>\n",
    "print (mylist[2:5]) <br>\n",
    "# Let's print the list backward. <br>\n",
    "print (mylist[::-1]) <br>\n",
    "#Let's get the list from element 1 to element 4 but counting from the end of the list. <br> \n",
    "print (mylist[-4:-1]) <br>\n",
    "</p>\n",
    "</td>\n",
    "</tr>\n",
    "</table>\n",
    "\n",
    "\n"
   ]
  },
  {
   "cell_type": "code",
   "execution_count": 55,
   "metadata": {
    "collapsed": false
   },
   "outputs": [
    {
     "name": "stdout",
     "output_type": "stream",
     "text": [
      "['c', 'd', 'e']\n",
      "['e', 'd', 'c', 'b', 'a']\n",
      "['b', 'c', 'd']\n"
     ]
    }
   ],
   "source": [
    "# Create our source list.\n",
    "mylist = ['a','b','c','d','e']\n",
    "# Let's get element 2-4.\n",
    "print (mylist[2:5])\n",
    "# Let's print the list backward.\n",
    "print (mylist[::-1])\n",
    "#Let's get the list from element 1 to element 4 but counting from the end of the list. \n",
    "print (mylist[-4:-1])\n"
   ]
  },
  {
   "cell_type": "markdown",
   "metadata": {},
   "source": [
    "<h3>List operators </h3><br>\n",
    "The list type uses the same operators in the same way that strings do.  The '+' is used to concatenate two lists together.  the '\\*' is used to repeat elements.  \n",
    "\n",
    "<table>\n",
    "<tr>\n",
    "<td>\n",
    "<p style = 'font-family:courier'>\n",
    "# Let's create a list with five elements that contain the number 5<br>\n",
    "mylist = [5] \\* 5 <br>\n",
    "print (mylist) <br>\n",
    "mylist2 = [4] \\* 4 <br>\n",
    "# Let's concatenate mylist and mylist2 together <br>\n",
    "print (mylist + mylist2) <br>\n",
    "</p>\n",
    "</td>\n",
    "</tr>\n",
    "</table>\n"
   ]
  },
  {
   "cell_type": "code",
   "execution_count": 58,
   "metadata": {
    "collapsed": false
   },
   "outputs": [
    {
     "name": "stdout",
     "output_type": "stream",
     "text": [
      "[5, 5, 5, 5, 5]\n",
      "[5, 5, 5, 5, 5, 4, 4, 4, 4]\n"
     ]
    }
   ],
   "source": [
    "# Let's create a list with five elements that contain the number 5\n",
    "mylist = [5] * 5\n",
    "print (mylist)\n",
    "mylist2 = [4] * 4\n",
    "# Let's concatenate mylist and mylist2 together\n",
    "print (mylist + mylist2)"
   ]
  },
  {
   "cell_type": "markdown",
   "metadata": {},
   "source": [
    "<h3>Multi-dimensional Lists </h3><br>\n",
    "List can also contain other lists.  We can access the elements of the internal list by using the [] operator more than once.  For example:\n",
    "\n",
    "<table>\n",
    "<tr>\n",
    "<td>\n",
    "<p style = 'font-family:courier'>\n",
    "# Let's make a list that contains two lists internally.<br>\n",
    "outer=[[1,2,3,4,5],['a','b','c','d','e']] <br>\n",
    "# Let's access the second element of the first inner list. <br> \n",
    "# This says that we want the first element of the outer list, which is the first list,<br> \n",
    "# and then the second element of the inner list, which contains the value of 2 <br>\n",
    "\n",
    "print (outer[0][1]) <br>\n",
    "\n",
    "# Let's now access the fourth value of the second list.<br> \n",
    "print (outer[1][3])<br>\n",
    "</p>\n",
    "</td>\n",
    "</tr>\n",
    "</table>\n"
   ]
  },
  {
   "cell_type": "code",
   "execution_count": 60,
   "metadata": {
    "collapsed": false
   },
   "outputs": [
    {
     "name": "stdout",
     "output_type": "stream",
     "text": [
      "2\n",
      "d\n"
     ]
    }
   ],
   "source": [
    "# Let's make a list that contains two lists internally.\n",
    "outer=[[1,2,3,4,5],['a','b','c','d','e']]\n",
    "# Let's access the second element of the first inner list. \n",
    "# This says that we want the first element of the outer list, which is the first list, \n",
    "# and then the second element of the inner list, which contains the value of 2 \n",
    "\n",
    "print (outer[0][1])\n",
    "\n",
    "# Let's now access the fourth value of the second list. \n",
    "print (outer[1][3])"
   ]
  },
  {
   "cell_type": "markdown",
   "metadata": {},
   "source": [
    "### Quick Exercise:\n",
    "1.  The fibonacci sequence is a well known mathematical sequence where an element is the sum of the previous two elements. Create a list that will contain the first five elements of this sequence.\n"
   ]
  },
  {
   "cell_type": "markdown",
   "metadata": {},
   "source": [
    "<h3> The Tuple Type</h3><br>\n",
    "A tuple in Python is conceptually similar to a list, in that it is a sequence of values, however, unlike a list, a tuple is *immutable*.  That is, you cannot change elements or add to the tuple once it has been defined.  As with lists, you can index a tuple using the '[]' argument.  You can also slice a tuple in the same way as you can with a list or a string type. The tuple uses the '()' symbols to note the start and end. As with lists, tuples use the '+' operator to concatenate two tuples and the '\\*' as the repeat operator. Another property of Python is the concept of tuple *packing* and *unpacking*.  This allows us to quickly load values into and out of a tuple.\n",
    "Following is an example of using tuples.  \n",
    "\n",
    "<table>\n",
    "<tr>\n",
    "<td>\n",
    "<p style = 'font-family:courier'>\n",
    "# Let's define a tuple.<br>\n",
    "mytuple = (1,2,3,4,5) <br>\n",
    "# Let's print out the second through the fifth element.<br>\n",
    "print (mytuple[1:6])<br>\n",
    "# Let's define a second tuple and add it to the first.<br> \n",
    "mytuple1 = ('a','b','c','d','e')<br>\n",
    "mytuple = mytuple + mytuple1<br>\n",
    "print (mytuple)<br>\n",
    "# Let's pack a tuple t with the values of x, y and z.  These become the elements of the new tuple t. <br>\n",
    "x = 1 <br>\n",
    "y = 2 <br>\n",
    "z = 3 <br>\n",
    "t = (x,y,z) <br>\n",
    "print (t) <br>\n",
    "# Now let's unpack a tuple. <br>\n",
    "(name,age) = ('Braun Brelin',21) <br>\n",
    "print ('name = ', name) <br>\n",
    "print ('age = ',age) <br>\n",
    "</p>\n",
    "</td>\n",
    "</tr>\n",
    "</table>"
   ]
  },
  {
   "cell_type": "code",
   "execution_count": 63,
   "metadata": {
    "collapsed": false
   },
   "outputs": [
    {
     "name": "stdout",
     "output_type": "stream",
     "text": [
      "(2, 3, 4, 5)\n",
      "(1, 2, 3, 4, 5, 'a', 'b', 'c', 'd', 'e')\n",
      "(1, 2, 3)\n",
      "name =  Braun Brelin\n",
      "age =  21\n"
     ]
    }
   ],
   "source": [
    "\n",
    "# Let's define a tuple.\n",
    "mytuple = (1,2,3,4,5)\n",
    "# Let's print out the second through the fifth element.\n",
    "print (mytuple[1:6])\n",
    "# Let's define a second tuple and add it to the first. \n",
    "mytuple1 = ('a','b','c','d','e')\n",
    "mytuple = mytuple + mytuple1\n",
    "print (mytuple)\n",
    "# Let's pack a tuple t with the values of x, y and z.  These become the elements of the new tuple t. \n",
    "x = 1\n",
    "y = 2\n",
    "z = 3\n",
    "t = (x,y,z)\n",
    "print (t)\n",
    "# Now let's unpack a tuple.\n",
    "(name,age) = ('Braun Brelin',21)\n",
    "print ('name = ', name)\n",
    "print ('age = ',age)"
   ]
  },
  {
   "cell_type": "markdown",
   "metadata": {},
   "source": [
    "<h3>More with tuples</h3><br>\n",
    "Python has a number of built-in functions that work with tuples.\n",
    "<div>\n",
    "<table  width='600px', align='left'>\n",
    "<tr>\n",
    "<th> Name</th><th>Description</th>\n",
    "</tr>\n",
    "<tr><td>2</td><td><p>len(tuple)</p>Gives the total length of the tuple.</td></tr>\n",
    "<tr><td>3</td><td><p>max(tuple)</p>Returns item from the tuple with max value.</td></tr>\n",
    "<tr><td>4</td><td><p>min(tuple)</p>Returns item from the tuple with min value.</td></tr>\n",
    "<tr><td>5</td><td><p>tuple(seq)</p>Converts a list into tuple.</td></tr>\n",
    "</table>\n",
    "</div>\n",
    "<br>\n",
    "<p align='left'>\n",
    "Here is an example of using these builtin tuple functions.<br>\n",
    "</p>\n",
    "<table align='left'>\n",
    "<tr>\n",
    "<td>\n",
    "<p style='font-family:courier'>\n",
    "# Let's create some tuples <br>\n",
    "t1, t2 = (1,2,3,4,5), (5,4,3,2,1) <br>\n",
    "# Let's print the length of tuple t1 <br>\n",
    "print (len(t1)) <br>\n",
    "# Let's get the maximum value from tuple t1 <br>\n",
    "print (max(t1)) <br>\n",
    "# Let's get the minimum value from tuple t2 <br>\n",
    "print (min(t2)) <br>\n",
    "# Let's convert a string into a tuple <br>\n",
    "t1 = tuple(\"Hello World\") <br>\n",
    "print (t1) <br>\n",
    "</p>\n",
    "</td>\n",
    "</tr>\n",
    "</table>"
   ]
  },
  {
   "cell_type": "code",
   "execution_count": 67,
   "metadata": {
    "collapsed": false
   },
   "outputs": [
    {
     "name": "stdout",
     "output_type": "stream",
     "text": [
      "5\n",
      "5\n",
      "1\n",
      "('H', 'e', 'l', 'l', 'o', ' ', 'W', 'o', 'r', 'l', 'd')\n"
     ]
    }
   ],
   "source": [
    "# Let's create some tuples\n",
    "t1, t2 = (1,2,3,4,5), (5,4,3,2,1)\n",
    "# Let's print the length of tuple t1\n",
    "print (len(t1))\n",
    "# Let's get the maximum value from tuple t1\n",
    "print (max(t1))\n",
    "# Let's get the minimum value from tuple t2\n",
    "print (min(t2))\n",
    "# Let's convert a string into a tuple\n",
    "t1 = tuple(\"Hello World\")\n",
    "print (t1)"
   ]
  },
  {
   "cell_type": "markdown",
   "metadata": {},
   "source": [
    "<h3> The Dictionary Type</h3><br>\n",
    "<p>The Python dictionary type is a core data structure of the language.  Nearly all of its other types are implemented as dictionaries.  Other languages may refer to a dictionary as an *associative array* or a *hash*. \n",
    "</p>\n",
    "<br>\n",
    "<p>\n",
    "At it's core, a dictionary is a collection of *key-value* pairs. Key/Value pairs are widely present in information technology.  For example, a configuration file for an application contains a variable and a value that it is set to.  An employee record may contain as its key a unique employee id and as its value an object containing information about the employee, such as the employee's name, address, phone number and other information specifically pertaining to that employee. \n",
    "</p>\n",
    "\n",
    "<p>\n",
    "Where lists use the '[]' notation and tuples use '()', dictionaries use the '{}' notation for initialization.  Dictionaries, do, however, use the familiar list notation for accessing elements of the data structure. \n",
    "Any immutable type, such as integers, strings or tuples can be a key in a dictionary. \n",
    "Here is an example of using dictionaries:\n",
    "</p>\n",
    "\n",
    "<p>\n",
    "\n",
    "There are many methods available to dictionaries.  Most will be discussed in the section on iteration and control flow. \n",
    "\n",
    "<table>\n",
    "<tr>\n",
    "<td>\n",
    "<p style='font-family:courier'>\n",
    "# Let's create our first, empty, dictionary. <br>\n",
    "mydict = {} <br>\n",
    "# Let's create another dictionary with some key value pairs.  Note that the syntax is key:value <br>\n",
    "# Also note that keys *must* be unique. I.e. I can't have two entries with a key value of 1.  <br>\n",
    "<br>\n",
    "mydict1 = {1:'Monday',2:'Tuesday',3:'Wednesday',4:'Thursday',5:'Friday',6:'Saturday',7:'Sunday'}<br>\n",
    "<br>\n",
    "# Let's print out the value associated with key 3 in the second dictionary. Note that the value here in <br>\n",
    "# the [] is *not* an index value, but the value of the key. <br>\n",
    "print (mydict1[3]) <br>\n",
    "\n",
    "# Any immutable type can be a key, for example, integers, strings or even tuples. <br>\n",
    "# Let's see an example of using a tuple as a key.<br>\n",
    "<br>\n",
    "keytuple = ('12345','Braun Brelin','12345 Main Street')<br>\n",
    "mydict[keytuple] = 'Record for Braun Brelin'<br>\n",
    "<br>\n",
    "print (mydict[keytuple])<br>\n",
    "</p>\n",
    "</td>\n",
    "</tr>\n",
    "</table>"
   ]
  },
  {
   "cell_type": "code",
   "execution_count": 78,
   "metadata": {
    "collapsed": false
   },
   "outputs": [
    {
     "name": "stdout",
     "output_type": "stream",
     "text": [
      "Wednesday\n",
      "Record for Braun Brelin\n"
     ]
    }
   ],
   "source": [
    "# Let's create our first, empty, dictionary. \n",
    "mydict = {}\n",
    "# Let's create another dictionary with some key value pairs.  Note that the syntax is key:value\n",
    "# Also note that keys *must* be unique. I.e. I can't have two entries with a key value of 1.  \n",
    "\n",
    "mydict1 = {1:'Monday',2:'Tuesday',3:'Wednesday',4:'Thursday',5:'Friday',6:'Saturday',7:'Sunday'}\n",
    "\n",
    "# Let's print out the value associated with key 3 in the second dictionary. Note that the value here in \n",
    "# the [] is *not* an index value, but the value of the key. \n",
    "print (mydict1[3])\n",
    "\n",
    "# Any immutable type can be a key, for example, integers, strings or even tuples.\n",
    "# Let's see an example of using a tuple as a key.\n",
    "\n",
    "keytuple = ('12345','Braun Brelin','12345 Main Street')\n",
    "mydict[keytuple] = 'Record for Braun Brelin'\n",
    "\n",
    "print (mydict[keytuple])"
   ]
  },
  {
   "cell_type": "markdown",
   "metadata": {},
   "source": [
    "<h2>Control Flow in Python</h2>\n",
    "<br>\n",
    "<p>\n",
    "The concept of flow of control comes when the program you're writing needs to make a decision about what to do.  Generally this decision is made when evaluating an expression of some sort.  For example, if you want the program to do one thing if the value in a variable is 5 and another thing if the value of the same variable is 6, then you need to tell the program how to handle this.  Python uses the if statement to allow us to evaluate expressions to see if they are true or false. \n",
    "<br>\n",
    "The structure of an if statement is as follows:\n",
    "\n",
    "<table width = '400px'>\n",
    "<tr>\n",
    "<td>\n",
    "<p style='font-family:courier'>\n",
    "if &lt;expr&gt;:<br>\n",
    "&nbsp;&nbsp;&nbsp;&nbsp;perform some statements<br>\n",
    "elif &lt;expr&gt;:<br>\n",
    "&nbsp;&nbsp;&nbsp;&nbsp;perform some other statements<br>\n",
    "elif &lt;expr&gt;:<br>\n",
    "&nbsp;&nbsp;&nbsp;&nbsp;perform more statements<br>\n",
    ".<br>\n",
    ".<br>\n",
    ".<br>\n",
    "elif &lt;expr&gt;:<br>\n",
    "&nbsp;&nbsp;&nbsp;&nbsp;    perform more statements<br>\n",
    "else:<br>\n",
    "&nbsp;&nbsp;&nbsp;&nbsp;    perform statements<br>\n",
    "</p>\n",
    "</td></tr></table>\n",
    "\n",
    "The expression in an if statement will evaluate to either True or False.  If the expression is true, the statements in the block after the if statement will be executed.  Python also has a elif which means *else if*.  Python allows a more or less unlimited amounts of elif statements after the first if statement. Finally, Python has an *else* clause, which means that if none of the expressions in the if or the one or more elif's are true, Python will execute the code in the else block. \n",
    "\n",
    "Let's see some examples. \n",
    "\n",
    "<table>\n",
    "<tr>\n",
    "<td>\n",
    "<p style='font-family:courier'>\n",
    "# Let's assign some values to some variables to use with our if's<br>\n",
    "<br>\n",
    "x = 10<br>\n",
    "s = 'Hello World'<br>\n",
    "y = 20<br>\n",
    "<br>\n",
    "# Now let's do some tests.<br>\n",
    "<br>\n",
    "if x == 10:<br>\n",
    "&nbsp;&nbsp;&nbsp;&nbsp;print (\"x is 10\") # Only runs if the x == 10 expression evaluates to True.<br>\n",
    "else:<br>\n",
    "&nbsp;&nbsp;&nbsp;&nbsp;print (\"x is not 10\")  # Only runs if the x == 10 expression evaluates to False.<br>\n",
    "<br>\n",
    "if 'Hello' in s:<br>\n",
    "&nbsp;&nbsp;&nbsp;&nbsp;print ('We found the string \\\"Hello\\\" in our variable')<br>\n",
    "<br>\n",
    "if x == 10 and y == 20:<br>\n",
    "&nbsp;&nbsp;&nbsp;&nbsp;print (\"Both expressions are True!\")<br>\n",
    "<br>\n",
    "if 'Hello' not in s:<br>\n",
    "&nbsp;&nbsp;&nbsp;&nbsp;print ('Hello is not in s')<br>\n",
    "elif 'World' in s:<br>\n",
    "&nbsp;&nbsp;&nbsp;&nbsp;print (\"World is in s!\")<br>\n",
    "else:<br>\n",
    "&nbsp;&nbsp;&nbsp;&nbsp;print (\"Hello is in s but World is not in s\")\n",
    "</p>\n",
    "</td>\n",
    "</tr>\n",
    "</table>\n",
    "\n",
    "Python has an alternative form of the if statement called a *ternary* expression.  It looks like this:\n",
    "a if &lt;expr&gt; else b\n",
    "\n",
    "This is really just a shortcut for the longer version:<br>\n",
    "<table width='150px'>\n",
    "<tr>\n",
    "<td>\n",
    "<p style='font-family:courier'>\n",
    "if &lt;expr&gt;:<br>\n",
    "&nbsp;&nbsp;&nbsp;&nbsp;a<br>\n",
    "else:<br>\n",
    "&nbsp;&nbsp;&nbsp;&nbsp;b<br>\n",
    "</p>\n",
    "</td>\n",
    "</tr>\n",
    "</table>"
   ]
  },
  {
   "cell_type": "code",
   "execution_count": 81,
   "metadata": {
    "collapsed": false
   },
   "outputs": [
    {
     "name": "stdout",
     "output_type": "stream",
     "text": [
      "x is 10\n",
      "We found the string \"Hello\" in our variable\n",
      "Both expressions are True!\n",
      "World is in s!\n"
     ]
    }
   ],
   "source": [
    "# Let's assign some values to some variables to use with our if's\n",
    "\n",
    "x = 10\n",
    "s = 'Hello World'\n",
    "y = 20\n",
    "\n",
    "# Now let's do some tests.\n",
    "\n",
    "if x == 10:\n",
    "    print (\"x is 10\") # Only runs if the x == 10 expression evaluates to True.\n",
    "else:\n",
    "    print (\"x is not 10\")  # Only runs if the x == 10 expression evaluates to False.\n",
    "\n",
    "if 'Hello' in s:\n",
    "    print ('We found the string \\\"Hello\\\" in our variable')\n",
    "\n",
    "if x == 10 and y == 20:\n",
    "    print (\"Both expressions are True!\")\n",
    "\n",
    "if 'Hello' not in s:\n",
    "    print ('Hello is not in s')\n",
    "elif 'World' in s:\n",
    "    print (\"World is in s!\")\n",
    "else:\n",
    "    print (\"Hello is in s but World is not in s\")\n",
    "\n",
    "    \n"
   ]
  },
  {
   "cell_type": "markdown",
   "metadata": {},
   "source": [
    "<h2>Performing iteration in Python with loops</h2><br>\n",
    "\n",
    "Program flow of control isn't just about decision making.  There are many times when you as the developer will want to iterate or loop over some sequence of values in order to achieve your results.  Python provides a number of ways to do this.  \n"
   ]
  }
 ],
 "metadata": {
  "kernelspec": {
   "display_name": "Python 3",
   "language": "python",
   "name": "python3"
  },
  "language_info": {
   "codemirror_mode": {
    "name": "ipython",
    "version": 3
   },
   "file_extension": ".py",
   "mimetype": "text/x-python",
   "name": "python",
   "nbconvert_exporter": "python",
   "pygments_lexer": "ipython3",
   "version": "3.5.2"
  }
 },
 "nbformat": 4,
 "nbformat_minor": 2
}
